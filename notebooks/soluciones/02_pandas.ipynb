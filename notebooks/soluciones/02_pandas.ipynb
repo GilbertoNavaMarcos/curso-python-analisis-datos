{
 "cells": [
  {
   "cell_type": "code",
   "execution_count": 31,
   "metadata": {},
   "outputs": [],
   "source": [
    "# Ponemos como ruta principal la carpeta padre de \"soluciones\"\n",
    "# para que las rutas relativas queden igual que en la carpeta de notebooks\n",
    "import paths\n",
    "\n",
    "# Otras dependencias\n",
    "import pandas as pd"
   ]
  },
  {
   "cell_type": "markdown",
   "metadata": {},
   "source": [
    "### Ejercicio\n",
    "\n",
    "* Carga en un dataframe de pandas el csv `dat/alquiler-madrid-municipios.csv` en una variable que se llame `alquiler_municipios`\n",
    "* Examina las primeras y últimas filas\n",
    "* Extrae el número de filas y columnas"
   ]
  },
  {
   "cell_type": "code",
   "execution_count": null,
   "metadata": {},
   "outputs": [],
   "source": [
    "# Lectura en un dataframe del fichero CSV\n",
    "alquiler_municipios = pd.read_csv(\"dat/alquiler-madrid-distritos.csv\")\n",
    "\n",
    "# Examino las primeras filas\n",
    "alquiler_municipios.head()"
   ]
  },
  {
   "cell_type": "code",
   "execution_count": 33,
   "metadata": {},
   "outputs": [
    {
     "data": {
      "text/html": [
       "<div>\n",
       "<style scoped>\n",
       "    .dataframe tbody tr th:only-of-type {\n",
       "        vertical-align: middle;\n",
       "    }\n",
       "\n",
       "    .dataframe tbody tr th {\n",
       "        vertical-align: top;\n",
       "    }\n",
       "\n",
       "    .dataframe thead th {\n",
       "        text-align: right;\n",
       "    }\n",
       "</style>\n",
       "<table border=\"1\" class=\"dataframe\">\n",
       "  <thead>\n",
       "    <tr style=\"text-align: right;\">\n",
       "      <th></th>\n",
       "      <th>distrito</th>\n",
       "      <th>ano</th>\n",
       "      <th>quarter</th>\n",
       "      <th>precio</th>\n",
       "    </tr>\n",
       "  </thead>\n",
       "  <tbody>\n",
       "    <tr>\n",
       "      <td>835</td>\n",
       "      <td>Tetuan</td>\n",
       "      <td>2018</td>\n",
       "      <td>2</td>\n",
       "      <td>15.114558</td>\n",
       "    </tr>\n",
       "    <tr>\n",
       "      <td>836</td>\n",
       "      <td>Usera</td>\n",
       "      <td>2018</td>\n",
       "      <td>2</td>\n",
       "      <td>11.533458</td>\n",
       "    </tr>\n",
       "    <tr>\n",
       "      <td>837</td>\n",
       "      <td>Vicálvaro</td>\n",
       "      <td>2018</td>\n",
       "      <td>2</td>\n",
       "      <td>9.962139</td>\n",
       "    </tr>\n",
       "    <tr>\n",
       "      <td>838</td>\n",
       "      <td>Villa De Vallecas</td>\n",
       "      <td>2018</td>\n",
       "      <td>2</td>\n",
       "      <td>10.915967</td>\n",
       "    </tr>\n",
       "    <tr>\n",
       "      <td>839</td>\n",
       "      <td>Villaverde</td>\n",
       "      <td>2018</td>\n",
       "      <td>2</td>\n",
       "      <td>10.427527</td>\n",
       "    </tr>\n",
       "  </tbody>\n",
       "</table>\n",
       "</div>"
      ],
      "text/plain": [
       "              distrito   ano  quarter     precio\n",
       "835             Tetuan  2018        2  15.114558\n",
       "836              Usera  2018        2  11.533458\n",
       "837          Vicálvaro  2018        2   9.962139\n",
       "838  Villa De Vallecas  2018        2  10.915967\n",
       "839         Villaverde  2018        2  10.427527"
      ]
     },
     "execution_count": 33,
     "metadata": {},
     "output_type": "execute_result"
    }
   ],
   "source": [
    "# Examino las últimas filas\n",
    "alquiler_municipios.tail()"
   ]
  },
  {
   "cell_type": "code",
   "execution_count": 34,
   "metadata": {},
   "outputs": [
    {
     "data": {
      "text/plain": [
       "(840, 4)"
      ]
     },
     "execution_count": 34,
     "metadata": {},
     "output_type": "execute_result"
    }
   ],
   "source": [
    "# Extraigo el número de filas y columnas: (filas, columnas)\n",
    "alquiler_municipios.shape"
   ]
  },
  {
   "cell_type": "markdown",
   "metadata": {},
   "source": [
    "#### Ejercicio\n",
    "\n",
    "* Muestra las primeras 5 filas usando `iloc`\n",
    "* Muestra las últimas 5 filas usando `iloc`"
   ]
  },
  {
   "cell_type": "code",
   "execution_count": 35,
   "metadata": {},
   "outputs": [
    {
     "data": {
      "text/html": [
       "<div>\n",
       "<style scoped>\n",
       "    .dataframe tbody tr th:only-of-type {\n",
       "        vertical-align: middle;\n",
       "    }\n",
       "\n",
       "    .dataframe tbody tr th {\n",
       "        vertical-align: top;\n",
       "    }\n",
       "\n",
       "    .dataframe thead th {\n",
       "        text-align: right;\n",
       "    }\n",
       "</style>\n",
       "<table border=\"1\" class=\"dataframe\">\n",
       "  <thead>\n",
       "    <tr style=\"text-align: right;\">\n",
       "      <th></th>\n",
       "      <th>distrito</th>\n",
       "      <th>ano</th>\n",
       "      <th>quarter</th>\n",
       "      <th>precio</th>\n",
       "    </tr>\n",
       "  </thead>\n",
       "  <tbody>\n",
       "    <tr>\n",
       "      <td>0</td>\n",
       "      <td>Arganzuela</td>\n",
       "      <td>2007</td>\n",
       "      <td>2</td>\n",
       "      <td>13.066587</td>\n",
       "    </tr>\n",
       "    <tr>\n",
       "      <td>1</td>\n",
       "      <td>Barajas</td>\n",
       "      <td>2007</td>\n",
       "      <td>2</td>\n",
       "      <td>11.199855</td>\n",
       "    </tr>\n",
       "    <tr>\n",
       "      <td>2</td>\n",
       "      <td>Carabanchel</td>\n",
       "      <td>2007</td>\n",
       "      <td>2</td>\n",
       "      <td>11.127661</td>\n",
       "    </tr>\n",
       "    <tr>\n",
       "      <td>3</td>\n",
       "      <td>Centro</td>\n",
       "      <td>2007</td>\n",
       "      <td>2</td>\n",
       "      <td>17.746404</td>\n",
       "    </tr>\n",
       "    <tr>\n",
       "      <td>4</td>\n",
       "      <td>Chamartín</td>\n",
       "      <td>2007</td>\n",
       "      <td>2</td>\n",
       "      <td>14.386480</td>\n",
       "    </tr>\n",
       "  </tbody>\n",
       "</table>\n",
       "</div>"
      ],
      "text/plain": [
       "      distrito   ano  quarter     precio\n",
       "0   Arganzuela  2007        2  13.066587\n",
       "1      Barajas  2007        2  11.199855\n",
       "2  Carabanchel  2007        2  11.127661\n",
       "3       Centro  2007        2  17.746404\n",
       "4    Chamartín  2007        2  14.386480"
      ]
     },
     "execution_count": 35,
     "metadata": {},
     "output_type": "execute_result"
    }
   ],
   "source": [
    "alquiler_municipios.iloc[0:5]"
   ]
  },
  {
   "cell_type": "code",
   "execution_count": 36,
   "metadata": {},
   "outputs": [
    {
     "data": {
      "text/html": [
       "<div>\n",
       "<style scoped>\n",
       "    .dataframe tbody tr th:only-of-type {\n",
       "        vertical-align: middle;\n",
       "    }\n",
       "\n",
       "    .dataframe tbody tr th {\n",
       "        vertical-align: top;\n",
       "    }\n",
       "\n",
       "    .dataframe thead th {\n",
       "        text-align: right;\n",
       "    }\n",
       "</style>\n",
       "<table border=\"1\" class=\"dataframe\">\n",
       "  <thead>\n",
       "    <tr style=\"text-align: right;\">\n",
       "      <th></th>\n",
       "      <th>distrito</th>\n",
       "      <th>ano</th>\n",
       "      <th>quarter</th>\n",
       "      <th>precio</th>\n",
       "    </tr>\n",
       "  </thead>\n",
       "  <tbody>\n",
       "    <tr>\n",
       "      <td>835</td>\n",
       "      <td>Tetuan</td>\n",
       "      <td>2018</td>\n",
       "      <td>2</td>\n",
       "      <td>15.114558</td>\n",
       "    </tr>\n",
       "    <tr>\n",
       "      <td>836</td>\n",
       "      <td>Usera</td>\n",
       "      <td>2018</td>\n",
       "      <td>2</td>\n",
       "      <td>11.533458</td>\n",
       "    </tr>\n",
       "    <tr>\n",
       "      <td>837</td>\n",
       "      <td>Vicálvaro</td>\n",
       "      <td>2018</td>\n",
       "      <td>2</td>\n",
       "      <td>9.962139</td>\n",
       "    </tr>\n",
       "    <tr>\n",
       "      <td>838</td>\n",
       "      <td>Villa De Vallecas</td>\n",
       "      <td>2018</td>\n",
       "      <td>2</td>\n",
       "      <td>10.915967</td>\n",
       "    </tr>\n",
       "    <tr>\n",
       "      <td>839</td>\n",
       "      <td>Villaverde</td>\n",
       "      <td>2018</td>\n",
       "      <td>2</td>\n",
       "      <td>10.427527</td>\n",
       "    </tr>\n",
       "  </tbody>\n",
       "</table>\n",
       "</div>"
      ],
      "text/plain": [
       "              distrito   ano  quarter     precio\n",
       "835             Tetuan  2018        2  15.114558\n",
       "836              Usera  2018        2  11.533458\n",
       "837          Vicálvaro  2018        2   9.962139\n",
       "838  Villa De Vallecas  2018        2  10.915967\n",
       "839         Villaverde  2018        2  10.427527"
      ]
     },
     "execution_count": 36,
     "metadata": {},
     "output_type": "execute_result"
    }
   ],
   "source": [
    "alquiler_municipios.iloc[-5:]"
   ]
  },
  {
   "cell_type": "markdown",
   "metadata": {},
   "source": [
    "#### Ejercicio\n",
    "\n",
    "Muestra sobre `alquiler_nuevo_indice` las filas para distrito `Retiro` y año 2012."
   ]
  },
  {
   "cell_type": "code",
   "execution_count": 37,
   "metadata": {},
   "outputs": [],
   "source": [
    "alquiler_nuevo_indice = alquiler_municipios.set_index(['distrito', 'ano', 'quarter']).sort_index()"
   ]
  },
  {
   "cell_type": "code",
   "execution_count": 38,
   "metadata": {},
   "outputs": [
    {
     "data": {
      "text/html": [
       "<div>\n",
       "<style scoped>\n",
       "    .dataframe tbody tr th:only-of-type {\n",
       "        vertical-align: middle;\n",
       "    }\n",
       "\n",
       "    .dataframe tbody tr th {\n",
       "        vertical-align: top;\n",
       "    }\n",
       "\n",
       "    .dataframe thead th {\n",
       "        text-align: right;\n",
       "    }\n",
       "</style>\n",
       "<table border=\"1\" class=\"dataframe\">\n",
       "  <thead>\n",
       "    <tr style=\"text-align: right;\">\n",
       "      <th></th>\n",
       "      <th>precio</th>\n",
       "    </tr>\n",
       "    <tr>\n",
       "      <th>quarter</th>\n",
       "      <th></th>\n",
       "    </tr>\n",
       "  </thead>\n",
       "  <tbody>\n",
       "    <tr>\n",
       "      <td>1</td>\n",
       "      <td>12.601891</td>\n",
       "    </tr>\n",
       "    <tr>\n",
       "      <td>2</td>\n",
       "      <td>12.363832</td>\n",
       "    </tr>\n",
       "    <tr>\n",
       "      <td>3</td>\n",
       "      <td>12.167435</td>\n",
       "    </tr>\n",
       "    <tr>\n",
       "      <td>4</td>\n",
       "      <td>11.951317</td>\n",
       "    </tr>\n",
       "  </tbody>\n",
       "</table>\n",
       "</div>"
      ],
      "text/plain": [
       "            precio\n",
       "quarter           \n",
       "1        12.601891\n",
       "2        12.363832\n",
       "3        12.167435\n",
       "4        11.951317"
      ]
     },
     "execution_count": 38,
     "metadata": {},
     "output_type": "execute_result"
    }
   ],
   "source": [
    "alquiler_nuevo_indice.loc[('Retiro', 2012)]"
   ]
  },
  {
   "cell_type": "markdown",
   "metadata": {},
   "source": [
    "#### Ejercicio\n",
    "\n",
    "Extrae los nombres de los distritos cuyo precio por metro cuadrado es superior a 15€ en el año y trimestre más reciente del que tenemos datos (míralo imprimiento las últimas filas de la tabla)."
   ]
  },
  {
   "cell_type": "code",
   "execution_count": 39,
   "metadata": {},
   "outputs": [
    {
     "data": {
      "text/html": [
       "<div>\n",
       "<style scoped>\n",
       "    .dataframe tbody tr th:only-of-type {\n",
       "        vertical-align: middle;\n",
       "    }\n",
       "\n",
       "    .dataframe tbody tr th {\n",
       "        vertical-align: top;\n",
       "    }\n",
       "\n",
       "    .dataframe thead th {\n",
       "        text-align: right;\n",
       "    }\n",
       "</style>\n",
       "<table border=\"1\" class=\"dataframe\">\n",
       "  <thead>\n",
       "    <tr style=\"text-align: right;\">\n",
       "      <th></th>\n",
       "      <th>distrito</th>\n",
       "      <th>ano</th>\n",
       "      <th>quarter</th>\n",
       "      <th>precio</th>\n",
       "    </tr>\n",
       "  </thead>\n",
       "  <tbody>\n",
       "    <tr>\n",
       "      <td>835</td>\n",
       "      <td>Tetuan</td>\n",
       "      <td>2018</td>\n",
       "      <td>2</td>\n",
       "      <td>15.114558</td>\n",
       "    </tr>\n",
       "    <tr>\n",
       "      <td>836</td>\n",
       "      <td>Usera</td>\n",
       "      <td>2018</td>\n",
       "      <td>2</td>\n",
       "      <td>11.533458</td>\n",
       "    </tr>\n",
       "    <tr>\n",
       "      <td>837</td>\n",
       "      <td>Vicálvaro</td>\n",
       "      <td>2018</td>\n",
       "      <td>2</td>\n",
       "      <td>9.962139</td>\n",
       "    </tr>\n",
       "    <tr>\n",
       "      <td>838</td>\n",
       "      <td>Villa De Vallecas</td>\n",
       "      <td>2018</td>\n",
       "      <td>2</td>\n",
       "      <td>10.915967</td>\n",
       "    </tr>\n",
       "    <tr>\n",
       "      <td>839</td>\n",
       "      <td>Villaverde</td>\n",
       "      <td>2018</td>\n",
       "      <td>2</td>\n",
       "      <td>10.427527</td>\n",
       "    </tr>\n",
       "  </tbody>\n",
       "</table>\n",
       "</div>"
      ],
      "text/plain": [
       "              distrito   ano  quarter     precio\n",
       "835             Tetuan  2018        2  15.114558\n",
       "836              Usera  2018        2  11.533458\n",
       "837          Vicálvaro  2018        2   9.962139\n",
       "838  Villa De Vallecas  2018        2  10.915967\n",
       "839         Villaverde  2018        2  10.427527"
      ]
     },
     "execution_count": 39,
     "metadata": {},
     "output_type": "execute_result"
    }
   ],
   "source": [
    "# 1. Imprime las últimas filas de la tabla\n",
    "alquiler_municipios.tail()"
   ]
  },
  {
   "cell_type": "code",
   "execution_count": 40,
   "metadata": {},
   "outputs": [],
   "source": [
    "# 2. Haz el filtro. Una vez hecho, saca solo la columna distrito\n",
    "filtro_ultimos_datos = alquiler_municipios[(alquiler_municipios.precio >= 15)&(alquiler_municipios.quarter == 2)&(alquiler_municipios.ano == 2018)]"
   ]
  },
  {
   "cell_type": "code",
   "execution_count": 41,
   "metadata": {},
   "outputs": [
    {
     "data": {
      "text/html": [
       "<div>\n",
       "<style scoped>\n",
       "    .dataframe tbody tr th:only-of-type {\n",
       "        vertical-align: middle;\n",
       "    }\n",
       "\n",
       "    .dataframe tbody tr th {\n",
       "        vertical-align: top;\n",
       "    }\n",
       "\n",
       "    .dataframe thead th {\n",
       "        text-align: right;\n",
       "    }\n",
       "</style>\n",
       "<table border=\"1\" class=\"dataframe\">\n",
       "  <thead>\n",
       "    <tr style=\"text-align: right;\">\n",
       "      <th></th>\n",
       "      <th>distrito</th>\n",
       "      <th>ano</th>\n",
       "      <th>quarter</th>\n",
       "      <th>precio</th>\n",
       "    </tr>\n",
       "  </thead>\n",
       "  <tbody>\n",
       "    <tr>\n",
       "      <td>822</td>\n",
       "      <td>Centro</td>\n",
       "      <td>2018</td>\n",
       "      <td>2</td>\n",
       "      <td>18.812639</td>\n",
       "    </tr>\n",
       "    <tr>\n",
       "      <td>823</td>\n",
       "      <td>Chamartín</td>\n",
       "      <td>2018</td>\n",
       "      <td>2</td>\n",
       "      <td>16.606506</td>\n",
       "    </tr>\n",
       "    <tr>\n",
       "      <td>824</td>\n",
       "      <td>Chamberí</td>\n",
       "      <td>2018</td>\n",
       "      <td>2</td>\n",
       "      <td>17.749769</td>\n",
       "    </tr>\n",
       "    <tr>\n",
       "      <td>829</td>\n",
       "      <td>Moncloa</td>\n",
       "      <td>2018</td>\n",
       "      <td>2</td>\n",
       "      <td>15.189176</td>\n",
       "    </tr>\n",
       "    <tr>\n",
       "      <td>832</td>\n",
       "      <td>Retiro</td>\n",
       "      <td>2018</td>\n",
       "      <td>2</td>\n",
       "      <td>15.767861</td>\n",
       "    </tr>\n",
       "    <tr>\n",
       "      <td>833</td>\n",
       "      <td>Salamanca</td>\n",
       "      <td>2018</td>\n",
       "      <td>2</td>\n",
       "      <td>19.089243</td>\n",
       "    </tr>\n",
       "    <tr>\n",
       "      <td>835</td>\n",
       "      <td>Tetuan</td>\n",
       "      <td>2018</td>\n",
       "      <td>2</td>\n",
       "      <td>15.114558</td>\n",
       "    </tr>\n",
       "  </tbody>\n",
       "</table>\n",
       "</div>"
      ],
      "text/plain": [
       "      distrito   ano  quarter     precio\n",
       "822     Centro  2018        2  18.812639\n",
       "823  Chamartín  2018        2  16.606506\n",
       "824   Chamberí  2018        2  17.749769\n",
       "829    Moncloa  2018        2  15.189176\n",
       "832     Retiro  2018        2  15.767861\n",
       "833  Salamanca  2018        2  19.089243\n",
       "835     Tetuan  2018        2  15.114558"
      ]
     },
     "execution_count": 41,
     "metadata": {},
     "output_type": "execute_result"
    }
   ],
   "source": [
    "filtro_ultimos_datos"
   ]
  },
  {
   "cell_type": "code",
   "execution_count": 42,
   "metadata": {},
   "outputs": [
    {
     "data": {
      "text/plain": [
       "822       Centro\n",
       "823    Chamartín\n",
       "824     Chamberí\n",
       "829      Moncloa\n",
       "832       Retiro\n",
       "833    Salamanca\n",
       "835       Tetuan\n",
       "Name: distrito, dtype: object"
      ]
     },
     "execution_count": 42,
     "metadata": {},
     "output_type": "execute_result"
    }
   ],
   "source": [
    "filtro_ultimos_datos['distrito']"
   ]
  },
  {
   "cell_type": "markdown",
   "metadata": {},
   "source": [
    "#### Ejercicio\n",
    "\n",
    "Extrae de mayor a menor por precio las filas de la tabla para Tetuán a partir del año 2017."
   ]
  },
  {
   "cell_type": "code",
   "execution_count": 43,
   "metadata": {},
   "outputs": [
    {
     "data": {
      "text/html": [
       "<div>\n",
       "<style scoped>\n",
       "    .dataframe tbody tr th:only-of-type {\n",
       "        vertical-align: middle;\n",
       "    }\n",
       "\n",
       "    .dataframe tbody tr th {\n",
       "        vertical-align: top;\n",
       "    }\n",
       "\n",
       "    .dataframe thead th {\n",
       "        text-align: right;\n",
       "    }\n",
       "</style>\n",
       "<table border=\"1\" class=\"dataframe\">\n",
       "  <thead>\n",
       "    <tr style=\"text-align: right;\">\n",
       "      <th></th>\n",
       "      <th>distrito</th>\n",
       "      <th>ano</th>\n",
       "      <th>quarter</th>\n",
       "      <th>precio</th>\n",
       "    </tr>\n",
       "  </thead>\n",
       "  <tbody>\n",
       "    <tr>\n",
       "      <td>793</td>\n",
       "      <td>Tetuan</td>\n",
       "      <td>2017</td>\n",
       "      <td>4</td>\n",
       "      <td>15.332326</td>\n",
       "    </tr>\n",
       "    <tr>\n",
       "      <td>835</td>\n",
       "      <td>Tetuan</td>\n",
       "      <td>2018</td>\n",
       "      <td>2</td>\n",
       "      <td>15.114558</td>\n",
       "    </tr>\n",
       "    <tr>\n",
       "      <td>814</td>\n",
       "      <td>Tetuan</td>\n",
       "      <td>2018</td>\n",
       "      <td>1</td>\n",
       "      <td>15.070236</td>\n",
       "    </tr>\n",
       "    <tr>\n",
       "      <td>772</td>\n",
       "      <td>Tetuan</td>\n",
       "      <td>2017</td>\n",
       "      <td>3</td>\n",
       "      <td>14.949865</td>\n",
       "    </tr>\n",
       "    <tr>\n",
       "      <td>730</td>\n",
       "      <td>Tetuan</td>\n",
       "      <td>2017</td>\n",
       "      <td>1</td>\n",
       "      <td>14.528777</td>\n",
       "    </tr>\n",
       "    <tr>\n",
       "      <td>751</td>\n",
       "      <td>Tetuan</td>\n",
       "      <td>2017</td>\n",
       "      <td>2</td>\n",
       "      <td>14.152455</td>\n",
       "    </tr>\n",
       "  </tbody>\n",
       "</table>\n",
       "</div>"
      ],
      "text/plain": [
       "    distrito   ano  quarter     precio\n",
       "793   Tetuan  2017        4  15.332326\n",
       "835   Tetuan  2018        2  15.114558\n",
       "814   Tetuan  2018        1  15.070236\n",
       "772   Tetuan  2017        3  14.949865\n",
       "730   Tetuan  2017        1  14.528777\n",
       "751   Tetuan  2017        2  14.152455"
      ]
     },
     "execution_count": 43,
     "metadata": {},
     "output_type": "execute_result"
    }
   ],
   "source": [
    "#Generamos el filtro para recoger los datos de Tetúan a partir del 2017\n",
    "filtro_tetuan = alquiler_municipios[(alquiler_municipios.distrito == 'Tetuan')&(alquiler_municipios.ano >= 2017)]\n",
    "#Ordenadamos de mayor a menor por precio las filas filtradas\n",
    "filtro_tetuan.sort_values(['precio'], ascending=False)"
   ]
  },
  {
   "cell_type": "markdown",
   "metadata": {},
   "source": [
    "#### Ejercicio\n",
    "\n",
    "Crea una nueva columna `precio_120m` sobre `alquiler_2` que represente el precio de 120 metros cuadrados, pero utilizando `apply` y una función `lambda`."
   ]
  },
  {
   "cell_type": "code",
   "execution_count": 44,
   "metadata": {},
   "outputs": [
    {
     "data": {
      "text/html": [
       "<div>\n",
       "<style scoped>\n",
       "    .dataframe tbody tr th:only-of-type {\n",
       "        vertical-align: middle;\n",
       "    }\n",
       "\n",
       "    .dataframe tbody tr th {\n",
       "        vertical-align: top;\n",
       "    }\n",
       "\n",
       "    .dataframe thead th {\n",
       "        text-align: right;\n",
       "    }\n",
       "</style>\n",
       "<table border=\"1\" class=\"dataframe\">\n",
       "  <thead>\n",
       "    <tr style=\"text-align: right;\">\n",
       "      <th></th>\n",
       "      <th>distrito</th>\n",
       "      <th>ano</th>\n",
       "      <th>quarter</th>\n",
       "      <th>precio</th>\n",
       "      <th>precio_120m</th>\n",
       "    </tr>\n",
       "  </thead>\n",
       "  <tbody>\n",
       "    <tr>\n",
       "      <td>0</td>\n",
       "      <td>Arganzuela</td>\n",
       "      <td>2007</td>\n",
       "      <td>2</td>\n",
       "      <td>13.066587</td>\n",
       "      <td>1567.990475</td>\n",
       "    </tr>\n",
       "    <tr>\n",
       "      <td>1</td>\n",
       "      <td>Barajas</td>\n",
       "      <td>2007</td>\n",
       "      <td>2</td>\n",
       "      <td>11.199855</td>\n",
       "      <td>1343.982565</td>\n",
       "    </tr>\n",
       "    <tr>\n",
       "      <td>2</td>\n",
       "      <td>Carabanchel</td>\n",
       "      <td>2007</td>\n",
       "      <td>2</td>\n",
       "      <td>11.127661</td>\n",
       "      <td>1335.319359</td>\n",
       "    </tr>\n",
       "    <tr>\n",
       "      <td>3</td>\n",
       "      <td>Centro</td>\n",
       "      <td>2007</td>\n",
       "      <td>2</td>\n",
       "      <td>17.746404</td>\n",
       "      <td>2129.568457</td>\n",
       "    </tr>\n",
       "    <tr>\n",
       "      <td>4</td>\n",
       "      <td>Chamartín</td>\n",
       "      <td>2007</td>\n",
       "      <td>2</td>\n",
       "      <td>14.386480</td>\n",
       "      <td>1726.377541</td>\n",
       "    </tr>\n",
       "  </tbody>\n",
       "</table>\n",
       "</div>"
      ],
      "text/plain": [
       "      distrito   ano  quarter     precio  precio_120m\n",
       "0   Arganzuela  2007        2  13.066587  1567.990475\n",
       "1      Barajas  2007        2  11.199855  1343.982565\n",
       "2  Carabanchel  2007        2  11.127661  1335.319359\n",
       "3       Centro  2007        2  17.746404  2129.568457\n",
       "4    Chamartín  2007        2  14.386480  1726.377541"
      ]
     },
     "execution_count": 44,
     "metadata": {},
     "output_type": "execute_result"
    }
   ],
   "source": [
    "#Hacemos una copia de los datos\n",
    "alquiler_2 = alquiler_municipios.copy()\n",
    "#Generamos la nueva columna con el precio total de 120m cuadrados\n",
    "alquiler_2['precio_120m'] = alquiler_2.apply(lambda fila: fila.precio * 120, axis=1)\n",
    "#Comprobamos el resultado con las primeras filas\n",
    "alquiler_2.head()"
   ]
  },
  {
   "cell_type": "markdown",
   "metadata": {},
   "source": [
    "#### Ejercicio\n",
    "\n",
    "Extrae los cuantiles 0.1 y 0.9 del precio para el distrito `Tetuan`."
   ]
  },
  {
   "cell_type": "code",
   "execution_count": 45,
   "metadata": {},
   "outputs": [
    {
     "data": {
      "text/html": [
       "<div>\n",
       "<style scoped>\n",
       "    .dataframe tbody tr th:only-of-type {\n",
       "        vertical-align: middle;\n",
       "    }\n",
       "\n",
       "    .dataframe tbody tr th {\n",
       "        vertical-align: top;\n",
       "    }\n",
       "\n",
       "    .dataframe thead th {\n",
       "        text-align: right;\n",
       "    }\n",
       "</style>\n",
       "<table border=\"1\" class=\"dataframe\">\n",
       "  <thead>\n",
       "    <tr style=\"text-align: right;\">\n",
       "      <th></th>\n",
       "      <th>precio</th>\n",
       "    </tr>\n",
       "  </thead>\n",
       "  <tbody>\n",
       "    <tr>\n",
       "      <td>0.1</td>\n",
       "      <td>11.118501</td>\n",
       "    </tr>\n",
       "    <tr>\n",
       "      <td>0.9</td>\n",
       "      <td>14.954030</td>\n",
       "    </tr>\n",
       "  </tbody>\n",
       "</table>\n",
       "</div>"
      ],
      "text/plain": [
       "        precio\n",
       "0.1  11.118501\n",
       "0.9  14.954030"
      ]
     },
     "execution_count": 45,
     "metadata": {},
     "output_type": "execute_result"
    }
   ],
   "source": [
    "#Generamos el filtro de los precios de Tetúan\n",
    "filtro_tetuan = alquiler_municipios[(alquiler_municipios.distrito == 'Tetuan')]\n",
    "#Extraemos los cuantiles 0.1 y 0.9\n",
    "filtro_tetuan[['precio']].quantile([.1, .9])"
   ]
  },
  {
   "cell_type": "markdown",
   "metadata": {},
   "source": [
    "#### Ejercicio\n",
    "\n",
    "Extrae el precio máximo histórico para cada distrito a partir del 2010"
   ]
  },
  {
   "cell_type": "code",
   "execution_count": 46,
   "metadata": {},
   "outputs": [
    {
     "data": {
      "text/plain": [
       "distrito\n",
       "Arganzuela            14.851932\n",
       "Barajas               12.748770\n",
       "Carabanchel           11.657143\n",
       "Centro                19.308607\n",
       "Chamartín             16.606506\n",
       "Chamberí              17.749769\n",
       "Ciudad Lineal         13.061230\n",
       "Fuencarral            12.120647\n",
       "Hortaleza             13.429745\n",
       "Latina                11.479019\n",
       "Moncloa               15.189176\n",
       "Moratalaz             10.992474\n",
       "Puente De Vallecas    11.875100\n",
       "Retiro                15.918052\n",
       "Salamanca             19.089243\n",
       "San Blas              11.808424\n",
       "Tetuan                15.332326\n",
       "Usera                 11.533458\n",
       "Vicálvaro             10.129708\n",
       "Villa De Vallecas     10.915967\n",
       "Villaverde            10.427527\n",
       "Name: precio, dtype: float64"
      ]
     },
     "execution_count": 46,
     "metadata": {},
     "output_type": "execute_result"
    }
   ],
   "source": [
    "filtro_ano = alquiler_municipios[(alquiler_municipios.ano >= 2010)] \n",
    "filtro_ano.groupby('distrito').precio.max()"
   ]
  },
  {
   "cell_type": "markdown",
   "metadata": {},
   "source": [
    "#### Ejercicio\n",
    "\n",
    "* Carga en un DataFrame el CSV `dat/venta-madrid-distritos.csv`\n",
    "* Crúzalo con el que ya tenemos de alquiler. El objetivo es tener, para cada distrito, año y cuatrimestre, tanto el precio de alquiler como el de venta del metro cuadrado. Para saber cómo poner sufijos a las columnas que colisionan en el cruce, mira la documentación de `merge`.\n",
    "* Extrae los precios medios de venta y alquiler por distrito para todo el histórico\n",
    "* Extrae, para el año y cuatrimestre más reciente del que haya datos, el distrito donde es más rentable comprar una vivienda para destinarla a alquiler. Es decir, con el ratio precio alquiler / precio venta más alto."
   ]
  },
  {
   "cell_type": "code",
   "execution_count": 47,
   "metadata": {},
   "outputs": [
    {
     "data": {
      "text/html": [
       "<div>\n",
       "<style scoped>\n",
       "    .dataframe tbody tr th:only-of-type {\n",
       "        vertical-align: middle;\n",
       "    }\n",
       "\n",
       "    .dataframe tbody tr th {\n",
       "        vertical-align: top;\n",
       "    }\n",
       "\n",
       "    .dataframe thead tr th {\n",
       "        text-align: left;\n",
       "    }\n",
       "\n",
       "    .dataframe thead tr:last-of-type th {\n",
       "        text-align: right;\n",
       "    }\n",
       "</style>\n",
       "<table border=\"1\" class=\"dataframe\">\n",
       "  <thead>\n",
       "    <tr>\n",
       "      <th></th>\n",
       "      <th>precio_x</th>\n",
       "      <th>precio_y</th>\n",
       "    </tr>\n",
       "    <tr>\n",
       "      <th></th>\n",
       "      <th>mean</th>\n",
       "      <th>mean</th>\n",
       "    </tr>\n",
       "    <tr>\n",
       "      <th>distrito</th>\n",
       "      <th></th>\n",
       "      <th></th>\n",
       "    </tr>\n",
       "  </thead>\n",
       "  <tbody>\n",
       "    <tr>\n",
       "      <td>Arganzuela</td>\n",
       "      <td>12.340657</td>\n",
       "      <td>3103.086354</td>\n",
       "    </tr>\n",
       "    <tr>\n",
       "      <td>Barajas</td>\n",
       "      <td>10.835534</td>\n",
       "      <td>2945.081544</td>\n",
       "    </tr>\n",
       "    <tr>\n",
       "      <td>Carabanchel</td>\n",
       "      <td>9.944685</td>\n",
       "      <td>2052.387996</td>\n",
       "    </tr>\n",
       "    <tr>\n",
       "      <td>Centro</td>\n",
       "      <td>15.616190</td>\n",
       "      <td>3753.839907</td>\n",
       "    </tr>\n",
       "    <tr>\n",
       "      <td>Chamartín</td>\n",
       "      <td>13.689511</td>\n",
       "      <td>4260.073482</td>\n",
       "    </tr>\n",
       "  </tbody>\n",
       "</table>\n",
       "</div>"
      ],
      "text/plain": [
       "              precio_x     precio_y\n",
       "                  mean         mean\n",
       "distrito                           \n",
       "Arganzuela   12.340657  3103.086354\n",
       "Barajas      10.835534  2945.081544\n",
       "Carabanchel   9.944685  2052.387996\n",
       "Centro       15.616190  3753.839907\n",
       "Chamartín    13.689511  4260.073482"
      ]
     },
     "execution_count": 47,
     "metadata": {},
     "output_type": "execute_result"
    }
   ],
   "source": [
    "#Cargamos el data frame \n",
    "venta_madrid_distritos = pd.read_csv(\"dat/venta-madrid-distritos.csv\")\n",
    "#Mergeamos los datos\n",
    "datos_totales = pd.merge(alquiler_municipios, venta_madrid_distritos, how='inner', on=['distrito', 'ano', 'quarter'])\n",
    "#Extraemos los precios medios de venta y alquiler\n",
    "datos_totales.groupby('distrito').agg({'precio_x': ['mean'], 'precio_y': ['mean']}).head()"
   ]
  },
  {
   "cell_type": "code",
   "execution_count": 48,
   "metadata": {},
   "outputs": [
    {
     "data": {
      "text/plain": [
       "distrito                 Puente De Vallecas\n",
       "ano                                    2018\n",
       "quarter                                   2\n",
       "precio_x                            11.8751\n",
       "precio_y                            1732.72\n",
       "ratio precio alq/vent            0.00685346\n",
       "Name: 792, dtype: object"
      ]
     },
     "execution_count": 48,
     "metadata": {},
     "output_type": "execute_result"
    }
   ],
   "source": [
    "#Extraemos el ratio precio alquiler/precio venta más alto\n",
    "#Generamos la columna con todos los ratios\n",
    "datos_totales[\"ratio precio alq/vent\"] = datos_totales[\"precio_x\"]/ datos_totales[\"precio_y\"]\n",
    "#Buscamos el año y cuatrimestre más reciente\n",
    "datos_totales.tail().iloc[0:5]\n",
    "#Hacemos un filtro con los datos del año y cuatrimestre más reciente\n",
    "datos_filtrados_totales = datos_totales[(datos_totales.ano == 2018)&(datos_totales.quarter == 2)] \n",
    "#Extraemos el distrito más rentable\n",
    "datos_filtrados_totales.loc[datos_filtrados_totales['ratio precio alq/vent'].idxmax()]"
   ]
  },
  {
   "cell_type": "code",
   "execution_count": null,
   "metadata": {},
   "outputs": [],
   "source": []
  }
 ],
 "metadata": {
  "kernelspec": {
   "display_name": "Python 3",
   "language": "python",
   "name": "python3"
  },
  "language_info": {
   "codemirror_mode": {
    "name": "ipython",
    "version": 3
   },
   "file_extension": ".py",
   "mimetype": "text/x-python",
   "name": "python",
   "nbconvert_exporter": "python",
   "pygments_lexer": "ipython3",
   "version": "3.7.4"
  }
 },
 "nbformat": 4,
 "nbformat_minor": 4
}
