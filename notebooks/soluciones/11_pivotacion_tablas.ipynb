{
 "cells": [
  {
   "cell_type": "code",
   "execution_count": null,
   "metadata": {},
   "outputs": [],
   "source": [
    "# Ponemos como ruta principal la carpeta padre de \"soluciones\"\n",
    "# para que las rutas relativas queden igual que en la carpeta de notebooks\n",
    "import paths\n",
    "\n",
    "# Otras dependencias\n",
    "import pandas as pd\n",
    "import numpy as np"
   ]
  },
  {
   "cell_type": "markdown",
   "metadata": {},
   "source": [
    "#### Ejercicio\n",
    "\n",
    "Investiga y cambia los nombres de las columnas resultantes (variable y value) por otros que consideres adecuados, durante el proceso de `melt`."
   ]
  },
  {
   "cell_type": "code",
   "execution_count": null,
   "metadata": {},
   "outputs": [],
   "source": [
    "air = pd.read_csv(\"dat/airquality.csv\")\n",
    "air.head()"
   ]
  },
  {
   "cell_type": "code",
   "execution_count": null,
   "metadata": {},
   "outputs": [],
   "source": [
    "air_long = air.melt(id_vars=['month', 'day'], var_name = \"Air quality variable\", value_name = \"Measure\")\n",
    "air_long.head()"
   ]
  },
  {
   "cell_type": "markdown",
   "metadata": {},
   "source": [
    "#### Ejercicio\n",
    "\n",
    "La función [`pivot_table`](https://pandas.pydata.org/pandas-docs/stable/reference/api/pandas.pivot_table.html) permite agregar si hay más de un valor por cada fila (es decir, parejas de índice + variable duplicadas).\n",
    "\n",
    "Aprovecha esta utilidad para, en el paso de `air_long` a ancho, calcular la mediana por variable por mes."
   ]
  },
  {
   "cell_type": "code",
   "execution_count": null,
   "metadata": {},
   "outputs": [],
   "source": [
    "air_wide = air_long.pivot_table(index=['month'], columns='Air quality variable', values='Measure',aggfunc=np.median)\n",
    "air_wide.head()"
   ]
  },
  {
   "cell_type": "markdown",
   "metadata": {},
   "source": [
    "#### Ejercicio\n",
    "\n",
    "Carga en un dataframe el fichero `dat/contaminacion_mad_201812.csv`, y mira qué aspecto tiene. Nuestro objetivo es dejarlo en formato largo, y quedarnos únicamente con los días con una medida válida. Para hacerlo:\n",
    "\n",
    "* A partir de ese dataframe, crea dos nuevos:\n",
    "\n",
    "    * Uno con el índice + las columnas con los valores (D01, ..., D31)\n",
    "    * Otro con el índice + las columnas con la validez (V01, ..., V31)\n",
    "\n",
    "* Pasa ambos a formato largo. El día debe quedar como numérico en ambos.\n",
    "* Cruza los resultados, para tener en el mismo dataframe valor y validez\n",
    "* Limpia la fecha, para tenerla como `date`"
   ]
  },
  {
   "cell_type": "markdown",
   "metadata": {},
   "source": [
    "Cargamos el dataframe"
   ]
  },
  {
   "cell_type": "code",
   "execution_count": null,
   "metadata": {},
   "outputs": [],
   "source": [
    "df = pd.read_csv(\"dat/contaminacion_mad_201812.csv\",sep = \";\")  "
   ]
  },
  {
   "cell_type": "code",
   "execution_count": null,
   "metadata": {},
   "outputs": [],
   "source": [
    "df.head()"
   ]
  },
  {
   "cell_type": "markdown",
   "metadata": {},
   "source": [
    "Creamos los dos nuevos dataframes"
   ]
  },
  {
   "cell_type": "code",
   "execution_count": null,
   "metadata": {},
   "outputs": [],
   "source": [
    "column_index = ['ANO','MES']\n",
    "column_index += ['D{:02}'.format(i) for i in range(1, 32)]"
   ]
  },
  {
   "cell_type": "code",
   "execution_count": null,
   "metadata": {},
   "outputs": [],
   "source": [
    "df1 = df[column_index]"
   ]
  },
  {
   "cell_type": "code",
   "execution_count": null,
   "metadata": {},
   "outputs": [],
   "source": [
    "df1.head()"
   ]
  },
  {
   "cell_type": "code",
   "execution_count": null,
   "metadata": {},
   "outputs": [],
   "source": [
    "column_index = ['ANO','MES']\n",
    "column_index += ['V{:02}'.format(i) for i in range(1, 32)]"
   ]
  },
  {
   "cell_type": "code",
   "execution_count": null,
   "metadata": {},
   "outputs": [],
   "source": [
    "df2 = df[column_index]"
   ]
  },
  {
   "cell_type": "code",
   "execution_count": null,
   "metadata": {},
   "outputs": [],
   "source": [
    "df2.head()"
   ]
  },
  {
   "cell_type": "markdown",
   "metadata": {},
   "source": [
    "Pasamos a formato largo"
   ]
  },
  {
   "cell_type": "code",
   "execution_count": null,
   "metadata": {},
   "outputs": [],
   "source": [
    "df1_long = df1.melt(id_vars= ['ANO','MES'],var_name='Day', value_name='value')\n",
    "df1_long['Day'] = df1_long.Day.str.replace(\"D\", \"\").astype(int)\n",
    "df1_long.head()"
   ]
  },
  {
   "cell_type": "code",
   "execution_count": null,
   "metadata": {},
   "outputs": [],
   "source": [
    "df2_long = df2.melt(id_vars= ['ANO','MES'],var_name='Day', value_name='Validity')\n",
    "df2_long['Day'] = df2_long.Day.str.replace(\"V\", \"\").astype(int)\n",
    "df2_long.head()"
   ]
  },
  {
   "cell_type": "markdown",
   "metadata": {},
   "source": [
    "Cruzamos los resultados"
   ]
  },
  {
   "cell_type": "code",
   "execution_count": null,
   "metadata": {},
   "outputs": [],
   "source": [
    "new_df = df1_long.copy()\n",
    "new_df['Validity']=df2_long['Validity']\n",
    "new_df.head()"
   ]
  },
  {
   "cell_type": "markdown",
   "metadata": {},
   "source": [
    "Limpiamos la fecha para tenerla como date. Sólo las entradas válidas se deberán traducir a formato date."
   ]
  },
  {
   "cell_type": "code",
   "execution_count": null,
   "metadata": {},
   "outputs": [],
   "source": [
    "df_out = new_df[new_df['Validity']=='V']\n",
    "df_out.head()"
   ]
  },
  {
   "cell_type": "code",
   "execution_count": null,
   "metadata": {},
   "outputs": [],
   "source": [
    "df_date = df_out[[\"ANO\", \"MES\", \"Day\"]].copy()\n",
    "df_date.columns = [\"year\", \"month\", \"day\"]\n",
    "df_out['Date'] = pd.to_datetime(df_date)\n",
    "df_out = df_out[['Date', 'value','Validity']]"
   ]
  },
  {
   "cell_type": "code",
   "execution_count": null,
   "metadata": {},
   "outputs": [],
   "source": [
    " df_out.head()"
   ]
  }
 ],
 "metadata": {
  "kernelspec": {
   "display_name": "Python 3",
   "language": "python",
   "name": "python3"
  },
  "language_info": {
   "codemirror_mode": {
    "name": "ipython",
    "version": 3
   },
   "file_extension": ".py",
   "mimetype": "text/x-python",
   "name": "python",
   "nbconvert_exporter": "python",
   "pygments_lexer": "ipython3",
   "version": "3.7.6"
  }
 },
 "nbformat": 4,
 "nbformat_minor": 4
}
